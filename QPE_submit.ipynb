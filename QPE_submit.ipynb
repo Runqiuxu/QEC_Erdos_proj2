{
 "cells": [
  {
   "cell_type": "markdown",
   "id": "45e83672-ee20-46c9-8381-2fa4ced667fe",
   "metadata": {},
   "source": [
    "The goal is to prepare the unique eigenvector $|x\\rangle$ of a diagonal unitary $U$, whose eigenphase $\\theta(x)$ satisfies $e^{2\\pi i \\theta(x)} = e^{2\\pi i t}$, using **Quantum Phase Estimation** and **Grover's amplification**.\n",
    "\n",
    "First we want to simulate a scenario where:\n",
    "\n",
    "$$\n",
    "U |x\\rangle = e^{2\\pi i \\theta(x)} |x\\rangle\n",
    "$$\n",
    "\n",
    "for some known eigenstate $|x\\rangle$, and estimate the value of $\\theta(x)$ using QPE.\n",
    "\n",
    "So we:\n",
    "\n",
    "1. Randomly pick a known eigenvector $|x\\rangle$,\n",
    "2. Retrieve its associated eigenphase $\\theta(x)$,\n",
    "3. Compute the **binary approximation** that QPE should return.\n",
    "\n",
    "* We want to **simulate the output of QPE**, which estimates $\\theta(x)$ to **$d$** bits of precision.\n",
    "* Since QPE returns a $d$-bit binary approximation of $\\theta$, we multiply:\n",
    "\n",
    "  $$\n",
    "  \\theta(x) \\cdot 2^d\n",
    "  $$\n",
    "\n",
    "  and take the **integer part**. That gives you:\n",
    "\n",
    "  $$\n",
    "  \\tilde{k} = \\lfloor 2^d \\cdot \\theta(x) \\rfloor \\in \\{0, \\dots, 2^d - 1\\}\n",
    "  $$\n",
    "* `format(..., f'0{d}b')` converts that integer to a **binary string of length `d`**, padding with leading 0s if necessary."
   ]
  },
  {
   "cell_type": "code",
   "execution_count": 21,
   "id": "3f53f64c-8229-4cd9-bf2b-5ff9fb68784c",
   "metadata": {},
   "outputs": [
    {
     "name": "stdout",
     "output_type": "stream",
     "text": [
      "Target index: 7, Target θ(x): 0.875 → bin: 111\n"
     ]
    }
   ],
   "source": [
    "from qiskit import QuantumCircuit\n",
    "from qiskit.circuit.library import Diagonal, QFT\n",
    "from qiskit.quantum_info import Statevector\n",
    "from collections import Counter\n",
    "import numpy as np\n",
    "\n",
    "# Define system and ancilla qubit numbers\n",
    "n = 3  # system qubits\n",
    "d = 3  # ancilla qubits\n",
    "N = 2**n\n",
    "\n",
    "# Random eigenphases θ(x) ∈ [0,1), unique\n",
    "theta_list = np.sort(np.random.choice(np.linspace(0, 1, 2**d, endpoint=False), size=N, replace=False))\n",
    "eigenvalues = np.exp(2j * np.pi * theta_list)\n",
    "\n",
    "# Pick a target eigenstate x such that U|x> = e^{2πiθ(x)}|x>\n",
    "target_index = np.random.randint(N)\n",
    "target_phase = theta_list[target_index]\n",
    "target_bin = format(int(target_phase * 2**d), f'0{d}b')\n",
    "\n",
    "print(f\"Target index: {target_index}, Target θ(x): {target_phase:.3f} → bin: {target_bin}\")"
   ]
  },
  {
   "cell_type": "markdown",
   "id": "376714ad-c639-4ad9-b810-a948273c1359",
   "metadata": {},
   "source": [
    "## Step 1: Represent $U$ using `Diagonal` gate and construct its powers\n",
    "\n",
    "If you're given the eigenvalues of $U$, e.g., a length $2^n$ list:\n",
    "\n",
    "$$\n",
    "U = \\text{diag}(e^{2\\pi i \\theta(0)}, \\dots, e^{2\\pi i \\theta(2^n - 1)})\n",
    "$$\n",
    "\n",
    "For **Quantum Phase Estimation (QPE)**, we need powers of controlled-`U`, `U^1`, `U^2`, ..., `U^{2^{d-1}}`. You can do this using Qiskit’s `ControlledGate`:\n",
    "\n"
   ]
  },
  {
   "cell_type": "code",
   "execution_count": 22,
   "id": "77c0ebf0-bc39-46ee-b8be-8341e17811cd",
   "metadata": {},
   "outputs": [],
   "source": [
    "U_gate = Diagonal(eigenvalues)\n",
    "from qiskit.circuit import Gate\n",
    "\n",
    "U_gate = Diagonal(eigenvalues)\n",
    "controlled_U_gates = []\n",
    "for k in range(d):\n",
    "    eigs = np.power(eigenvalues, 2**k)\n",
    "    U_power = Diagonal(eigs)\n",
    "    controlled_U = U_power.control()\n",
    "    controlled_U_gates.append(controlled_U)"
   ]
  },
  {
   "cell_type": "markdown",
   "id": "f8736982-9e8e-4091-b65d-1c23cdc4c074",
   "metadata": {},
   "source": [
    "## Step 2: Apply Quantum Phase Estimation (QPE)\n",
    "\n",
    "This step estimates $\\theta(x)$ using $d$ ancilla qubits and $n$ system qubits:"
   ]
  },
  {
   "cell_type": "code",
   "execution_count": 23,
   "id": "af8c90cc-3d9f-499a-810f-25de753a5cf4",
   "metadata": {},
   "outputs": [
    {
     "data": {
      "text/plain": [
       "<qiskit.circuit.instructionset.InstructionSet at 0x7f04ccb29a50>"
      ]
     },
     "execution_count": 23,
     "metadata": {},
     "output_type": "execute_result"
    }
   ],
   "source": [
    "# Biuld QPE circuit\n",
    "qc = QuantumCircuit(d + n)\n",
    "qc.h(range(d))  # Hadamard on ancillas\n",
    "qc.h(range(d, d + n))  # Superposition over system qubits\n",
    "\n",
    "# Apply controlled-U^2^k\n",
    "for i in range(d):\n",
    "    qc.append(controlled_U_gates[i], [i] + [j + d for j in range(n)])\n",
    "    \n",
    "# Apply inverse QFT\n",
    "qc.append(QFT(d, inverse=True).to_gate(label='QFT†'), range(d))"
   ]
  },
  {
   "cell_type": "markdown",
   "id": "da0a5ee3-8a16-4ad4-a29b-8a76edeb14bc",
   "metadata": {},
   "source": [
    "## Step 3: Grover Oracle — Mark the index with phase close to $t$\n",
    "\n",
    "You now create an oracle that flags the index whose estimated phase is **closest to** $t$. One way is to measure the ancilla (phase) register **in simulation**, check which outcome is closest to $t$, and **mark** this bitstring in the Grover circuit.\n"
   ]
  },
  {
   "cell_type": "code",
   "execution_count": 24,
   "id": "1ee4c722-f51c-4281-8b2e-d651ebe68dff",
   "metadata": {},
   "outputs": [
    {
     "ename": "CircuitError",
     "evalue": "'One or more of the arguments are empty'",
     "output_type": "error",
     "traceback": [
      "\u001b[0;31m---------------------------------------------------------------------------\u001b[0m",
      "\u001b[0;31mCircuitError\u001b[0m                              Traceback (most recent call last)",
      "Cell \u001b[0;32mIn[24], line 4\u001b[0m\n\u001b[1;32m      2\u001b[0m oracle \u001b[38;5;241m=\u001b[39m QuantumCircuit(d \u001b[38;5;241m+\u001b[39m n)\n\u001b[1;32m      3\u001b[0m oracle_bits \u001b[38;5;241m=\u001b[39m [i \u001b[38;5;28;01mfor\u001b[39;00m i, b \u001b[38;5;129;01min\u001b[39;00m \u001b[38;5;28menumerate\u001b[39m(target_bin) \u001b[38;5;28;01mif\u001b[39;00m b \u001b[38;5;241m==\u001b[39m \u001b[38;5;124m'\u001b[39m\u001b[38;5;124m0\u001b[39m\u001b[38;5;124m'\u001b[39m]\n\u001b[0;32m----> 4\u001b[0m \u001b[43moracle\u001b[49m\u001b[38;5;241;43m.\u001b[39;49m\u001b[43mx\u001b[49m\u001b[43m(\u001b[49m\u001b[43moracle_bits\u001b[49m\u001b[43m)\u001b[49m\n\u001b[1;32m      5\u001b[0m oracle\u001b[38;5;241m.\u001b[39mh(d \u001b[38;5;241m-\u001b[39m \u001b[38;5;241m1\u001b[39m)\n\u001b[1;32m      6\u001b[0m oracle\u001b[38;5;241m.\u001b[39mmcx(\u001b[38;5;28mlist\u001b[39m(\u001b[38;5;28mrange\u001b[39m(d \u001b[38;5;241m-\u001b[39m \u001b[38;5;241m1\u001b[39m)), d \u001b[38;5;241m-\u001b[39m \u001b[38;5;241m1\u001b[39m)\n",
      "File \u001b[0;32m~/.local/lib/python3.11/site-packages/qiskit/circuit/quantumcircuit.py:5934\u001b[0m, in \u001b[0;36mQuantumCircuit.x\u001b[0;34m(self, qubit, label)\u001b[0m\n\u001b[1;32m   5922\u001b[0m \u001b[38;5;28;01mdef\u001b[39;00m \u001b[38;5;21mx\u001b[39m(\u001b[38;5;28mself\u001b[39m, qubit: QubitSpecifier, label: \u001b[38;5;28mstr\u001b[39m \u001b[38;5;241m|\u001b[39m \u001b[38;5;28;01mNone\u001b[39;00m \u001b[38;5;241m=\u001b[39m \u001b[38;5;28;01mNone\u001b[39;00m) \u001b[38;5;241m-\u001b[39m\u001b[38;5;241m>\u001b[39m InstructionSet:\n\u001b[1;32m   5923\u001b[0m \u001b[38;5;250m    \u001b[39m\u001b[38;5;124mr\u001b[39m\u001b[38;5;124;03m\"\"\"Apply :class:`~qiskit.circuit.library.XGate`.\u001b[39;00m\n\u001b[1;32m   5924\u001b[0m \n\u001b[1;32m   5925\u001b[0m \u001b[38;5;124;03m    For the full matrix form of this gate, see the underlying gate documentation.\u001b[39;00m\n\u001b[0;32m   (...)\u001b[0m\n\u001b[1;32m   5932\u001b[0m \u001b[38;5;124;03m        A handle to the instructions created.\u001b[39;00m\n\u001b[1;32m   5933\u001b[0m \u001b[38;5;124;03m    \"\"\"\u001b[39;00m\n\u001b[0;32m-> 5934\u001b[0m     \u001b[38;5;28;01mreturn\u001b[39;00m \u001b[38;5;28;43mself\u001b[39;49m\u001b[38;5;241;43m.\u001b[39;49m\u001b[43m_append_standard_gate\u001b[49m\u001b[43m(\u001b[49m\u001b[43mStandardGate\u001b[49m\u001b[38;5;241;43m.\u001b[39;49m\u001b[43mXGate\u001b[49m\u001b[43m,\u001b[49m\u001b[43m \u001b[49m\u001b[43m[\u001b[49m\u001b[43mqubit\u001b[49m\u001b[43m]\u001b[49m\u001b[43m,\u001b[49m\u001b[43m \u001b[49m\u001b[43m(\u001b[49m\u001b[43m)\u001b[49m\u001b[43m,\u001b[49m\u001b[43m \u001b[49m\u001b[43mlabel\u001b[49m\u001b[38;5;241;43m=\u001b[39;49m\u001b[43mlabel\u001b[49m\u001b[43m)\u001b[49m\n",
      "File \u001b[0;32m~/.local/lib/python3.11/site-packages/qiskit/circuit/quantumcircuit.py:2641\u001b[0m, in \u001b[0;36mQuantumCircuit._append_standard_gate\u001b[0;34m(self, op, qargs, params, label)\u001b[0m\n\u001b[1;32m   2638\u001b[0m     Gate\u001b[38;5;241m.\u001b[39mvalidate_parameter(op, param)\n\u001b[1;32m   2640\u001b[0m instructions \u001b[38;5;241m=\u001b[39m InstructionSet(resource_requester\u001b[38;5;241m=\u001b[39mcircuit_scope\u001b[38;5;241m.\u001b[39mresolve_classical_resource)\n\u001b[0;32m-> 2641\u001b[0m \u001b[38;5;28;01mfor\u001b[39;00m qarg, _ \u001b[38;5;129;01min\u001b[39;00m \u001b[43mGate\u001b[49m\u001b[38;5;241;43m.\u001b[39;49m\u001b[43mbroadcast_arguments\u001b[49m\u001b[43m(\u001b[49m\u001b[43mop\u001b[49m\u001b[43m,\u001b[49m\u001b[43m \u001b[49m\u001b[43mexpanded_qargs\u001b[49m\u001b[43m,\u001b[49m\u001b[43m \u001b[49m\u001b[43m[\u001b[49m\u001b[43m]\u001b[49m\u001b[43m)\u001b[49m:\n\u001b[1;32m   2642\u001b[0m     \u001b[38;5;28mself\u001b[39m\u001b[38;5;241m.\u001b[39m_check_dups(qarg)\n\u001b[1;32m   2643\u001b[0m     instruction \u001b[38;5;241m=\u001b[39m CircuitInstruction\u001b[38;5;241m.\u001b[39mfrom_standard(op, qarg, params, label\u001b[38;5;241m=\u001b[39mlabel)\n",
      "File \u001b[0;32m~/.local/lib/python3.11/site-packages/qiskit/circuit/gate.py:232\u001b[0m, in \u001b[0;36mGate.broadcast_arguments\u001b[0;34m(self, qargs, cargs)\u001b[0m\n\u001b[1;32m    226\u001b[0m     \u001b[38;5;28;01mraise\u001b[39;00m CircuitError(\n\u001b[1;32m    227\u001b[0m         \u001b[38;5;124mf\u001b[39m\u001b[38;5;124m\"\u001b[39m\u001b[38;5;124mThe amount of qubit(\u001b[39m\u001b[38;5;132;01m{\u001b[39;00m\u001b[38;5;28mlen\u001b[39m(qargs)\u001b[38;5;132;01m}\u001b[39;00m\u001b[38;5;124m)/clbit(\u001b[39m\u001b[38;5;132;01m{\u001b[39;00m\u001b[38;5;28mlen\u001b[39m(cargs)\u001b[38;5;132;01m}\u001b[39;00m\u001b[38;5;124m) arguments does\u001b[39m\u001b[38;5;124m\"\u001b[39m\n\u001b[1;32m    228\u001b[0m         \u001b[38;5;124mf\u001b[39m\u001b[38;5;124m\"\u001b[39m\u001b[38;5;124m not match the gate expectation (\u001b[39m\u001b[38;5;132;01m{\u001b[39;00m\u001b[38;5;28mself\u001b[39m\u001b[38;5;241m.\u001b[39mnum_qubits\u001b[38;5;132;01m}\u001b[39;00m\u001b[38;5;124m).\u001b[39m\u001b[38;5;124m\"\u001b[39m\n\u001b[1;32m    229\u001b[0m     )\n\u001b[1;32m    231\u001b[0m \u001b[38;5;28;01mif\u001b[39;00m \u001b[38;5;28many\u001b[39m(\u001b[38;5;129;01mnot\u001b[39;00m qarg \u001b[38;5;28;01mfor\u001b[39;00m qarg \u001b[38;5;129;01min\u001b[39;00m qargs):\n\u001b[0;32m--> 232\u001b[0m     \u001b[38;5;28;01mraise\u001b[39;00m CircuitError(\u001b[38;5;124m\"\u001b[39m\u001b[38;5;124mOne or more of the arguments are empty\u001b[39m\u001b[38;5;124m\"\u001b[39m)\n\u001b[1;32m    234\u001b[0m \u001b[38;5;28;01mif\u001b[39;00m \u001b[38;5;28mlen\u001b[39m(qargs) \u001b[38;5;241m==\u001b[39m \u001b[38;5;241m0\u001b[39m:\n\u001b[1;32m    235\u001b[0m     \u001b[38;5;28;01mreturn\u001b[39;00m [\n\u001b[1;32m    236\u001b[0m         ([], []),\n\u001b[1;32m    237\u001b[0m     ]\n",
      "\u001b[0;31mCircuitError\u001b[0m: 'One or more of the arguments are empty'"
     ]
    }
   ],
   "source": [
    "# Oracle: flips phase if state matches target_phase_bin\n",
    "oracle = QuantumCircuit(d + n)\n",
    "oracle_bits = [i for i, b in enumerate(target_bin) if b == '0']\n",
    "oracle.x(oracle_bits)\n",
    "oracle.h(d - 1)\n",
    "oracle.mcx(list(range(d - 1)), d - 1)\n",
    "oracle.h(d - 1)\n",
    "oracle.x(oracle_bits)"
   ]
  },
  {
   "cell_type": "markdown",
   "id": "3b3e3858-03f8-4a7a-b8f4-78503a460725",
   "metadata": {},
   "source": [
    "## Step 5: Run Grover’s Amplification\n",
    "\n",
    "Grover amplification boosts the amplitude of the marked state. Construct the diffuser and repeat the oracle + diffuser process a few times.\n"
   ]
  },
  {
   "cell_type": "code",
   "execution_count": null,
   "id": "bcb667c6-2197-4cd0-a42f-86195684637e",
   "metadata": {},
   "outputs": [],
   "source": [
    "def diffuser(qc, qubits):\n",
    "    qc.h(qubits)\n",
    "    qc.x(qubits)\n",
    "    qc.h(qubits[-1])\n",
    "    qc.mcx(qubits[:-1], qubits[-1])\n",
    "    qc.h(qubits[-1])\n",
    "    qc.x(qubits)\n",
    "    qc.h(qubits)\n",
    "\n",
    "grover = QuantumCircuit(d + n)\n",
    "grover.compose(oracle, inplace=True)\n",
    "diffuser(grover, list(range(d)))"
   ]
  },
  {
   "cell_type": "markdown",
   "id": "af577fa0-5020-4be4-941f-82b62e555e77",
   "metadata": {},
   "source": [
    "## Final Step: Full circuit to prepare |x⟩\n",
    "\n",
    "Put all the pieces together: QPE → Grover iterations → measurement\n",
    "\n",
    "Question: I am not sure why Grover is not amplifying the target bin correctly?"
   ]
  },
  {
   "cell_type": "code",
   "execution_count": 25,
   "id": "cb634f8a-e4a5-4c44-8230-beb52fc2dd05",
   "metadata": {},
   "outputs": [
    {
     "name": "stdout",
     "output_type": "stream",
     "text": [
      "\n",
      "Full bitstring amplitudes:\n",
      "  100100 → 0.0825\n",
      "  010010 → 0.0825\n",
      "  111111 → 0.0825\n",
      "  000000 → 0.0825\n",
      "  101101 → 0.0825\n",
      "  110110 → 0.0825\n",
      "  001001 → 0.0825\n",
      "  011000 → 0.0161\n",
      "  010011 → 0.0161\n",
      "  011100 → 0.0161\n",
      "  011010 → 0.0161\n",
      "  001011 → 0.0161\n",
      "  011111 → 0.0161\n",
      "  111011 → 0.0161\n",
      "  000011 → 0.0161\n",
      "  011001 → 0.0161\n",
      "  101011 → 0.0161\n",
      "  110011 → 0.0161\n",
      "  100011 → 0.0161\n",
      "  011110 → 0.0161\n",
      "  011101 → 0.0161\n",
      "  011011 → 0.0122\n",
      "  111110 → 0.0044\n",
      "  110100 → 0.0044\n",
      "  111010 → 0.0044\n",
      "  000101 → 0.0044\n",
      "  001110 → 0.0044\n",
      "  010111 → 0.0044\n",
      "  100101 → 0.0044\n",
      "  000010 → 0.0044\n",
      "  000110 → 0.0044\n",
      "  000001 → 0.0044\n",
      "  000111 → 0.0044\n",
      "  010110 → 0.0044\n",
      "  100000 → 0.0044\n",
      "  110101 → 0.0044\n",
      "  101001 → 0.0044\n",
      "  101110 → 0.0044\n",
      "  110010 → 0.0044\n",
      "  100010 → 0.0044\n",
      "  101000 → 0.0044\n",
      "  010000 → 0.0044\n",
      "  001000 → 0.0044\n",
      "  001111 → 0.0044\n",
      "  010001 → 0.0044\n",
      "  101100 → 0.0044\n",
      "  111001 → 0.0044\n",
      "  111101 → 0.0044\n",
      "  000100 → 0.0044\n",
      "  010100 → 0.0044\n",
      "  101010 → 0.0044\n",
      "  111100 → 0.0044\n",
      "  001010 → 0.0044\n",
      "  010101 → 0.0044\n",
      "  100110 → 0.0044\n",
      "  110000 → 0.0044\n",
      "  001100 → 0.0044\n",
      "  001101 → 0.0044\n",
      "  100001 → 0.0044\n",
      "  100111 → 0.0044\n",
      "  110001 → 0.0044\n",
      "  111000 → 0.0044\n",
      "  101111 → 0.0044\n",
      "  110111 → 0.0044\n",
      "\n",
      "Top outcomes for system register:\n",
      "  |100⟩ → 0.1250\n",
      "  |010⟩ → 0.1250\n",
      "  |000⟩ → 0.1250\n",
      "  |111⟩ → 0.1250\n",
      "  |011⟩ → 0.1250\n"
     ]
    }
   ],
   "source": [
    "# Compose full circuit\n",
    "full_circuit = qc\n",
    "for _ in range(20):  # Try more Grover iterations\n",
    "    full_circuit = full_circuit.compose(grover)\n",
    "\n",
    "# Simulate statevector\n",
    "sv = Statevector.from_instruction(full_circuit)\n",
    "probs = sv.probabilities_dict()\n",
    "print(\"\\nFull bitstring amplitudes:\")\n",
    "for b, p in sorted(probs.items(), key=lambda x: -x[1]):\n",
    "    if p > 1e-6:  # filter out tiny values\n",
    "        print(f\"  {b} → {p:.4f}\")\n",
    "        \n",
    "system_probs = Counter()\n",
    "for bitstring, p in probs.items():\n",
    "    system = bitstring[d:]  # last n bits = system register\n",
    "    system_probs[system] += p\n",
    "\n",
    "# Show top outcomes\n",
    "print(\"\\nTop outcomes for system register:\")\n",
    "for x, p in sorted(system_probs.items(), key=lambda x: -x[1])[:5]:\n",
    "    print(f\"  |{x}⟩ → {p:.4f}\")"
   ]
  },
  {
   "cell_type": "code",
   "execution_count": 26,
   "id": "5e22d10a-6f7d-4a14-8134-ca81dcce6f02",
   "metadata": {},
   "outputs": [
    {
     "name": "stdout",
     "output_type": "stream",
     "text": [
      "Target phase: 0.875, Target bin: 111\n",
      "Oracle flips phase when ancilla = 111\n",
      "X-gates applied to qubits: []\n"
     ]
    }
   ],
   "source": [
    "print(f\"Target phase: {target_phase:.3f}, Target bin: {target_bin}\")\n",
    "print(f\"Oracle flips phase when ancilla = {target_bin}\")\n",
    "print(f\"X-gates applied to qubits: {[i for i, b in enumerate(target_bin) if b == '0']}\")"
   ]
  },
  {
   "cell_type": "code",
   "execution_count": null,
   "id": "2aebcb33-5451-44a4-89ea-5795f75ec819",
   "metadata": {},
   "outputs": [],
   "source": []
  }
 ],
 "metadata": {
  "kernelspec": {
   "display_name": "Python 3 (ipykernel)",
   "language": "python",
   "name": "python3"
  },
  "language_info": {
   "codemirror_mode": {
    "name": "ipython",
    "version": 3
   },
   "file_extension": ".py",
   "mimetype": "text/x-python",
   "name": "python",
   "nbconvert_exporter": "python",
   "pygments_lexer": "ipython3",
   "version": "3.11.9"
  }
 },
 "nbformat": 4,
 "nbformat_minor": 5
}
